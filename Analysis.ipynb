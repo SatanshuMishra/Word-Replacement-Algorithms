{
 "cells": [
  {
   "cell_type": "code",
   "execution_count": 5,
   "metadata": {},
   "outputs": [],
   "source": [
    "import time\n",
    "import random\n",
    "import string\n",
    "import numpy as np\n",
    "import matplotlib.pyplot as plt\n",
    "import pandas as pd"
   ]
  },
  {
   "attachments": {},
   "cell_type": "markdown",
   "metadata": {},
   "source": [
    "## Retrieve abbreviation data"
   ]
  },
  {
   "cell_type": "code",
   "execution_count": 6,
   "metadata": {},
   "outputs": [],
   "source": [
    "# import and process abbreviation dataset\n",
    "abbreviations_df = pd.read_csv(\"Abbreviations and Slang.csv\")\n",
    "abbreviations = dict(zip(abbreviations_df[\"Abbreviations\"], abbreviations_df[\"Text\"]))\n",
    "abbreviations = {key.lower() : abbreviations[key] for key in abbreviations}"
   ]
  },
  {
   "attachments": {},
   "cell_type": "markdown",
   "metadata": {},
   "source": [
    "## Create utility functions to generate test data"
   ]
  },
  {
   "cell_type": "code",
   "execution_count": 59,
   "metadata": {},
   "outputs": [],
   "source": [
    "# generate a random word of given length\n",
    "def get_word_of_length(str_length):\n",
    "    chars = string.ascii_letters + string.digits + string.punctuation\n",
    "    return \"\".join(random.choice(chars) for _ in range(str_length))\n",
    "\n",
    "# generate random words until a sufficient sentence length is met\n",
    "def get_sentence_of_length(sentence_length): \n",
    "    sentence = \"\"\n",
    "    while (len(sentence) < sentence_length): \n",
    "        sentence += \" \" + get_word_of_length(random.choice(range(3,10)))\n",
    "    return sentence[0:sentence_length]"
   ]
  },
  {
   "attachments": {},
   "cell_type": "markdown",
   "metadata": {},
   "source": [
    "## Build the Trie Tree data structure"
   ]
  },
  {
   "cell_type": "code",
   "execution_count": 4,
   "metadata": {},
   "outputs": [],
   "source": [
    "class TrieNode:\n",
    "    def __init__(self):\n",
    "        self.children = {}\n",
    "        self.endValue = False\n",
    "\n",
    "class Trie:\n",
    "    def __init__(self):\n",
    "        self.root = TrieNode()\n",
    "    \n",
    "    def insert(self, abbreviation: str, full: str):\n",
    "        curr = self.root\n",
    "        abbreviation = abbreviation.lower()\n",
    "        for char in abbreviation:\n",
    "            if char not in curr.children:\n",
    "                curr.children[char] = TrieNode()\n",
    "            curr = curr.children[char]\n",
    "        curr.endValue = full\n",
    "\n",
    "    def search(self, abbreviation: str):\n",
    "        curr = self.root\n",
    "        for char in abbreviation:\n",
    "            if char not in curr.children:\n",
    "                return False\n",
    "            curr = curr.children[char]\n",
    "        return curr.endValue\n",
    "\n",
    "def buildTrie():\n",
    "    trie = Trie()\n",
    "    for word in abbreviations:\n",
    "        trie.insert(word, abbreviations.get(word))\n",
    "\n",
    "    return trie"
   ]
  },
  {
   "attachments": {},
   "cell_type": "markdown",
   "metadata": {},
   "source": [
    "## Create the Hashmap & Trie Tree search-and-replace algorithms"
   ]
  },
  {
   "cell_type": "code",
   "execution_count": 5,
   "metadata": {},
   "outputs": [],
   "source": [
    "def corpusHashMapUpdated(abbreviations, punctuations, text): \n",
    "    # split and process individual words\n",
    "    arr = []\n",
    "    words = text.split()\n",
    "    for word in words:\n",
    "        loweredWord = word.lower()\n",
    "        start = 0\n",
    "        end = len(word) - 1\n",
    "\n",
    "        # get indices of edge punctuations\n",
    "        while word[start] in punctuations and start < end:\n",
    "            start += 1\n",
    "        while word[end] in punctuations and start < end:\n",
    "            end -= 1\n",
    "        end += 1\n",
    "        strippedWord = loweredWord[start:end]\n",
    "\n",
    "        # search in data structure\n",
    "        correspondingValue = abbreviations.get(strippedWord)\n",
    "        if correspondingValue != None:\n",
    "            arr.append(\"\".join([word[0:start], correspondingValue, word[end:len(word)]]))\n",
    "        else:\n",
    "            arr.append(word)\n",
    "    return \" \".join(arr)\n",
    "\n",
    "def corpusTrieUpdated(trie, punctuations, text):\n",
    "    # Split and process individual words\n",
    "    arr = []\n",
    "    words = text.split()\n",
    "    for word in words:\n",
    "        loweredWord = word.lower()\n",
    "        start = 0\n",
    "        end = len(word) - 1\n",
    "\n",
    "        # get indices of edge punctuations\n",
    "        while word[start] in punctuations and start < end:\n",
    "            start += 1\n",
    "        while word[end] in punctuations and start < end:\n",
    "            end -= 1\n",
    "        end += 1\n",
    "        strippedWord = loweredWord[start:end]\n",
    "\n",
    "        # search in data structure\n",
    "        correspondingValue = trie.search(strippedWord)\n",
    "        if correspondingValue:\n",
    "            arr.append(\"\".join([word[0:start], correspondingValue, word[end:len(word)]]))\n",
    "        else:\n",
    "            arr.append(word)\n",
    "    return \" \".join(arr)"
   ]
  },
  {
   "attachments": {},
   "cell_type": "markdown",
   "metadata": {},
   "source": [
    "## Prepare the utility functions to analyze the runtime of each algorithm"
   ]
  },
  {
   "cell_type": "code",
   "execution_count": 6,
   "metadata": {},
   "outputs": [],
   "source": [
    "def evaluateHashMapRunTimeUpdated(start, end, stepSize, numTrials):\n",
    "    nValuesHashMap = []\n",
    "    tValuesHashMap = []\n",
    "    for n in range(start, end+1, stepSize):\n",
    "        runTime = 0\n",
    "        for _ in range(numTrials):\n",
    "            text = get_sentence_of_length(n)\n",
    "            start = time.time()\n",
    "            corpusHashMapUpdated(abbreviations, \"#,?!\", text)\n",
    "            end = time.time()\n",
    "            runTime += (end - start) * 1000\n",
    "        runTime = runTime / numTrials\n",
    "        nValuesHashMap.append(n)\n",
    "        tValuesHashMap.append(runTime)\n",
    "    return nValuesHashMap, tValuesHashMap\n",
    "\n",
    "# Seperate function as trie should be built per size n\n",
    "def evaluateTrieRunTimeUpdated(start, end, stepSize, numTrials):\n",
    "    nValuesTrie = []\n",
    "    tValuesTrie = []\n",
    "    trie = buildTrie()\n",
    "    for n in range(start, end+1, stepSize):\n",
    "        runTime = 0\n",
    "        for _ in range(numTrials):\n",
    "            text = get_sentence_of_length(n)\n",
    "            start = time.time()\n",
    "            corpusTrieUpdated(trie, \"#,?!\", text)\n",
    "            end = time.time()\n",
    "            runTime += (end - start) * 1000\n",
    "        runTime = runTime / numTrials\n",
    "        nValuesTrie.append(n)\n",
    "        tValuesTrie.append(runTime)\n",
    "    return nValuesTrie, tValuesTrie\n",
    "\n"
   ]
  },
  {
   "attachments": {},
   "cell_type": "markdown",
   "metadata": {},
   "source": [
    "## Launch tests"
   ]
  },
  {
   "cell_type": "code",
   "execution_count": 60,
   "metadata": {},
   "outputs": [
    {
     "ename": "NameError",
     "evalue": "name 'evaluateHashMapRunTimeUpdated' is not defined",
     "output_type": "error",
     "traceback": [
      "\u001b[1;31m---------------------------------------------------------------------------\u001b[0m",
      "\u001b[1;31mNameError\u001b[0m                                 Traceback (most recent call last)",
      "Cell \u001b[1;32mIn[60], line 7\u001b[0m\n\u001b[0;32m      4\u001b[0m stepSize \u001b[39m=\u001b[39m \u001b[39m100_000\u001b[39m\n\u001b[0;32m      5\u001b[0m numTrials \u001b[39m=\u001b[39m \u001b[39m2\u001b[39m\n\u001b[1;32m----> 7\u001b[0m nValuesHashMapUpdated, tValuesHashMapUpdated \u001b[39m=\u001b[39m evaluateHashMapRunTimeUpdated(start, end, stepSize, numTrials)\n\u001b[0;32m      8\u001b[0m nValuesTrieUpdated, tValuesTrieUpdated \u001b[39m=\u001b[39m evaluateTrieRunTimeUpdated(start, end, stepSize, numTrials)\n",
      "\u001b[1;31mNameError\u001b[0m: name 'evaluateHashMapRunTimeUpdated' is not defined"
     ]
    }
   ],
   "source": [
    "# set parameters for tests\n",
    "start = 100_000\n",
    "end = 1_000_000\n",
    "stepSize = 100_000\n",
    "numTrials = 2\n",
    "\n",
    "nValuesHashMapUpdated, tValuesHashMapUpdated = evaluateHashMapRunTimeUpdated(start, end, stepSize, numTrials)\n",
    "nValuesTrieUpdated, tValuesTrieUpdated = evaluateTrieRunTimeUpdated(start, end, stepSize, numTrials)"
   ]
  },
  {
   "attachments": {},
   "cell_type": "markdown",
   "metadata": {},
   "source": [
    "## Plot results"
   ]
  },
  {
   "cell_type": "code",
   "execution_count": null,
   "metadata": {},
   "outputs": [],
   "source": [
    "# plot linear growth rates\n",
    "plt.plot([x * 1/1000000 for x in nValuesTrieUpdated], [x/10000 for x in nValuesTrieUpdated], \"--\", color=\"red\", label=\"n * 1000/10\")\n",
    "plt.plot([x * 1/1000000 for x in nValuesTrieUpdated], [x/20000 for x in nValuesTrieUpdated], \"--\", color=\"orange\", label=\"n * 1000/20\")\n",
    "plt.plot([x * 1/1000000 for x in nValuesTrieUpdated], [x/30000 for x in nValuesTrieUpdated], \"--\", color=\"yellow\", label=\"n * 1000/30\")\n",
    "\n",
    "# plot results\n",
    "plt.plot([x * 1/1000000 for x in nValuesHashMapUpdated], tValuesHashMapUpdated, color=\"purple\", label=\"Updated HashMap Approach\")\n",
    "plt.plot([x * 1/1000000 for x in nValuesTrieUpdated], tValuesTrieUpdated, color=\"blue\", label=\"Updated Trie Approach\")\n",
    "plt.xlabel(\"Characters in Tweet (Millions)\")\n",
    "plt.ylabel(\"Time (Milliseconds)\")\n",
    "plt.legend()\n",
    "plt.title(\"Corpus Implementation\")"
   ]
  }
 ],
 "metadata": {
  "kernelspec": {
   "display_name": "Python 3",
   "language": "python",
   "name": "python3"
  },
  "language_info": {
   "codemirror_mode": {
    "name": "ipython",
    "version": 3
   },
   "file_extension": ".py",
   "mimetype": "text/x-python",
   "name": "python",
   "nbconvert_exporter": "python",
   "pygments_lexer": "ipython3",
   "version": "3.10.11"
  },
  "orig_nbformat": 4,
  "vscode": {
   "interpreter": {
    "hash": "2bc1f8195503c2abc9eccc23be32540688973f91b5cd1f877653c3b60378cd86"
   }
  }
 },
 "nbformat": 4,
 "nbformat_minor": 2
}
